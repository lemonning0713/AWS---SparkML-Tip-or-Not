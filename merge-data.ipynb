{
 "cells": [
  {
   "cell_type": "markdown",
   "metadata": {},
   "source": [
    "# Create Merged Dataset\n",
    "\n",
    "In this workbook, you will read in the `trip` and `fare` files. You are welcome to use DataFrame and/or SparkSQL API as you desire as long as it produces the expected results.\n",
    "\n",
    "Instructions:\n",
    "\n",
    "1. Join both datasets such that you get a merged dataset with 21 unique fields. You need to determine how to join the dataset.\n",
    "2. Once you create the merged dataset, you need to convert fields to the following types, since all fields were read is as string:\n",
    "    * pickup_datetime and dropoff_datetime must be TIMESTAMP\n",
    "    * passenger_count and rate_code must be INT\n",
    "    * all other numeric fields must be FLOAT\n",
    "    * the remaining fields stay as STRING\n",
    "3. Save your merged and converted dataset to your own S3 bucket in parquet format.\n",
    "\n",
    "You are welcome to add as many cells as you need below up until the next section. **You must include comments in your code.**"
   ]
  },
  {
   "cell_type": "code",
   "execution_count": 1,
   "metadata": {},
   "outputs": [],
   "source": [
    "# Import findspark\n",
    "import findspark\n",
    "findspark.init()\n",
    "\n",
    "# Import libraries\n",
    "from pyspark import SparkContext\n",
    "from pyspark.sql import SparkSession\n",
    "spark = SparkSession.builder.appName(\"merge-data\").getOrCreate()\n",
    "sc    = spark.sparkContext      # get the context"
   ]
  },
  {
   "cell_type": "code",
   "execution_count": 3,
   "metadata": {},
   "outputs": [
    {
     "data": {
      "text/html": [
       "\n",
       "            <div>\n",
       "                <p><b>SparkSession - in-memory</b></p>\n",
       "                \n",
       "        <div>\n",
       "            <p><b>SparkContext</b></p>\n",
       "\n",
       "            <p><a href=\"http://ip-172-31-16-111.ec2.internal:4040\">Spark UI</a></p>\n",
       "\n",
       "            <dl>\n",
       "              <dt>Version</dt>\n",
       "                <dd><code>v2.4.0</code></dd>\n",
       "              <dt>Master</dt>\n",
       "                <dd><code>yarn</code></dd>\n",
       "              <dt>AppName</dt>\n",
       "                <dd><code>merge-data</code></dd>\n",
       "            </dl>\n",
       "        </div>\n",
       "        \n",
       "            </div>\n",
       "        "
      ],
      "text/plain": [
       "<pyspark.sql.session.SparkSession at 0x7ffa6f58f0f0>"
      ]
     },
     "execution_count": 3,
     "metadata": {},
     "output_type": "execute_result"
    }
   ],
   "source": [
    "# Check spark and sc\n",
    "spark\n",
    "sc"
   ]
  },
  {
   "cell_type": "code",
   "execution_count": 9,
   "metadata": {},
   "outputs": [],
   "source": [
    "# Load datasets from sc using read.parquet\n",
    "trip = spark.read.parquet(\"s3://bigdatateaching/nyctaxi-2013/parquet/trip/\")\n",
    "fare = spark.read.parquet(\"s3://bigdatateaching/nyctaxi-2013/parquet/fare/\")"
   ]
  },
  {
   "cell_type": "code",
   "execution_count": 7,
   "metadata": {},
   "outputs": [
    {
     "name": "stdout",
     "output_type": "stream",
     "text": [
      "+--------------------+--------------------+---------+---------+------------------+-------------------+-------------------+---------------+-----------------+-------------+----------------+---------------+-----------------+----------------+\n",
      "|           medallion|        hack_license|vendor_id|rate_code|store_and_fwd_flag|    pickup_datetime|   dropoff_datetime|passenger_count|trip_time_in_secs|trip_distance|pickup_longitude|pickup_latitude|dropoff_longitude|dropoff_latitude|\n",
      "+--------------------+--------------------+---------+---------+------------------+-------------------+-------------------+---------------+-----------------+-------------+----------------+---------------+-----------------+----------------+\n",
      "|0F6CF8A85A039CDF3...|33BC9D03BE4E9B8E1...|      VTS|        1|              null|2013-04-20 20:22:00|2013-04-20 20:28:00|              1|              360|          .46|       -73.98571|      40.762817|       -73.978874|       40.762306|\n",
      "|75148F5ED6DECC2B4...|FC93BBB797CBAA633...|      VTS|        1|              null|2013-04-19 20:22:00|2013-04-19 20:29:00|              1|              420|          .98|      -73.976372|      40.752708|       -73.987167|       40.746979|\n",
      "|D0D9C0CD2B6E87AD6...|989738ED439E7B633...|      VTS|        1|              null|2013-04-20 19:55:00|2013-04-20 20:26:00|              1|             1860|        14.10|       -73.96035|      40.761929|       -73.767807|        40.76152|\n",
      "+--------------------+--------------------+---------+---------+------------------+-------------------+-------------------+---------------+-----------------+-------------+----------------+---------------+-----------------+----------------+\n",
      "only showing top 3 rows\n",
      "\n",
      "+--------------------+--------------------+---------+-------------------+------------+-----------+---------+-------+----------+------------+------------+\n",
      "|           medallion|        hack_license|vendor_id|    pickup_datetime|payment_type|fare_amount|surcharge|mta_tax|tip_amount|tolls_amount|total_amount|\n",
      "+--------------------+--------------------+---------+-------------------+------------+-----------+---------+-------+----------+------------+------------+\n",
      "|ABC075C8871353E9F...|F13B6FECD12C974E7...|      VTS|2013-04-09 18:11:00|         CRD|       11.5|        1|    0.5|      3.12|           0|       16.12|\n",
      "|6F05C2D331B2178F3...|38A4C7A8805AF6713...|      VTS|2013-04-09 18:16:00|         CSH|        5.5|        1|    0.5|         0|           0|           7|\n",
      "|A2B2E4DC64E3B3B9F...|902DEAA1A28E6022C...|      VTS|2013-04-09 18:08:00|         CRD|       15.5|        1|    0.5|         2|           0|          19|\n",
      "+--------------------+--------------------+---------+-------------------+------------+-----------+---------+-------+----------+------------+------------+\n",
      "only showing top 3 rows\n",
      "\n"
     ]
    }
   ],
   "source": [
    "# Show data \n",
    "trip.show(3)\n",
    "fare.show(3)"
   ]
  },
  {
   "cell_type": "code",
   "execution_count": 41,
   "metadata": {},
   "outputs": [],
   "source": [
    "# Register the datasets as SQL table\n",
    "trip.createOrReplaceTempView(\"tr\")\n",
    "fare.createOrReplaceTempView(\"fa\")"
   ]
  },
  {
   "cell_type": "code",
   "execution_count": 43,
   "metadata": {},
   "outputs": [],
   "source": [
    "# Merge the two table using sql\n",
    "merge_data = spark.sql(\"SELECT tr.medallion, tr.hack_license, tr.vendor_id, CAST(tr.rate_code AS INT), tr.store_and_fwd_flag, \\\n",
    "                        CAST(tr.pickup_datetime AS TIMESTAMP), CAST(tr.dropoff_datetime AS TIMESTAMP), CAST(tr.passenger_count AS INT), \\\n",
    "                        CAST(tr.trip_time_in_secs AS FLOAT), CAST(tr.trip_distance AS FLOAT), CAST(tr.pickup_longitude AS FLOAT), \\\n",
    "                        CAST(tr.pickup_latitude AS FLOAT), CAST(tr.dropoff_longitude AS FLOAT), CAST(tr.dropoff_latitude AS FLOAT), \\\n",
    "                        fa.payment_type, CAST(fa.fare_amount AS FLOAT), CAST(fa.surcharge AS FLOAT), CAST(fa.mta_tax AS FLOAT), \\\n",
    "                        CAST(fa.tip_amount AS FLOAT), CAST(fa.tolls_amount AS FLOAT), CAST(fa.total_amount AS FLOAT) \\\n",
    "                        FROM tr LEFT JOIN fa \\\n",
    "                        ON tr.medallion = fa.medallion \\\n",
    "                        AND tr.hack_license = fa.hack_license \\\n",
    "                        AND tr.vendor_id = fa.vendor_id \\\n",
    "                        AND tr.pickup_datetime = fa.pickup_datetime\").cache()\n"
   ]
  },
  {
   "cell_type": "code",
   "execution_count": 44,
   "metadata": {},
   "outputs": [
    {
     "name": "stdout",
     "output_type": "stream",
     "text": [
      "+--------------------+--------------------+---------+---------+------------------+-------------------+-------------------+---------------+-----------------+-------------+----------------+---------------+-----------------+----------------+------------+-----------+---------+-------+----------+------------+------------+\n",
      "|           medallion|        hack_license|vendor_id|rate_code|store_and_fwd_flag|    pickup_datetime|   dropoff_datetime|passenger_count|trip_time_in_secs|trip_distance|pickup_longitude|pickup_latitude|dropoff_longitude|dropoff_latitude|payment_type|fare_amount|surcharge|mta_tax|tip_amount|tolls_amount|total_amount|\n",
      "+--------------------+--------------------+---------+---------+------------------+-------------------+-------------------+---------------+-----------------+-------------+----------------+---------------+-----------------+----------------+------------+-----------+---------+-------+----------+------------+------------+\n",
      "|00005007A9F30E289...|02015F5B7D1884620...|      CMT|        1|                 N|2013-05-20 02:15:05|2013-05-20 02:28:51|              2|            827.0|          5.3|        -74.0084|      40.740517|       -73.965195|       40.801292|         CRD|       17.5|      0.5|    0.5|       3.7|         0.0|        22.2|\n",
      "|00005007A9F30E289...|0649DA10C83DE7C6A...|      CMT|        1|                 N|2013-05-14 20:28:38|2013-05-14 20:37:35|              1|            536.0|          1.7|        -73.9793|       40.73579|        -74.00354|       40.740307|         CRD|        8.5|      0.5|    0.5|       1.9|         0.0|        11.4|\n",
      "|00005007A9F30E289...|0FD461760B482C0B2...|      CMT|        1|                 N|2013-11-18 01:41:18|2013-11-18 01:53:22|              1|            723.0|          3.2|      -73.987175|      40.722256|        -73.94967|        40.71564|         CSH|       12.0|      0.5|    0.5|       0.0|         0.0|        13.0|\n",
      "+--------------------+--------------------+---------+---------+------------------+-------------------+-------------------+---------------+-----------------+-------------+----------------+---------------+-----------------+----------------+------------+-----------+---------+-------+----------+------------+------------+\n",
      "only showing top 3 rows\n",
      "\n"
     ]
    }
   ],
   "source": [
    "# Print out the merged data\n",
    "merge_data.show(3)"
   ]
  },
  {
   "cell_type": "markdown",
   "metadata": {},
   "source": [
    "## In the following cells, please provide the requested code and output. Do not change the order and/or structure of the cells."
   ]
  },
  {
   "cell_type": "markdown",
   "metadata": {},
   "source": [
    "In the next cell, provide the code that saves your merged dataset to your S3 bucket."
   ]
  },
  {
   "cell_type": "code",
   "execution_count": 47,
   "metadata": {},
   "outputs": [],
   "source": [
    "merge_data.write.parquet(\"s3://anly502s3/a5_mergeData/\")"
   ]
  },
  {
   "cell_type": "markdown",
   "metadata": {},
   "source": [
    "In the next cell, print the schema of your merged dataset."
   ]
  },
  {
   "cell_type": "code",
   "execution_count": 48,
   "metadata": {},
   "outputs": [
    {
     "name": "stdout",
     "output_type": "stream",
     "text": [
      "root\n",
      " |-- medallion: string (nullable = true)\n",
      " |-- hack_license: string (nullable = true)\n",
      " |-- vendor_id: string (nullable = true)\n",
      " |-- rate_code: integer (nullable = true)\n",
      " |-- store_and_fwd_flag: string (nullable = true)\n",
      " |-- pickup_datetime: timestamp (nullable = true)\n",
      " |-- dropoff_datetime: timestamp (nullable = true)\n",
      " |-- passenger_count: integer (nullable = true)\n",
      " |-- trip_time_in_secs: float (nullable = true)\n",
      " |-- trip_distance: float (nullable = true)\n",
      " |-- pickup_longitude: float (nullable = true)\n",
      " |-- pickup_latitude: float (nullable = true)\n",
      " |-- dropoff_longitude: float (nullable = true)\n",
      " |-- dropoff_latitude: float (nullable = true)\n",
      " |-- payment_type: string (nullable = true)\n",
      " |-- fare_amount: float (nullable = true)\n",
      " |-- surcharge: float (nullable = true)\n",
      " |-- mta_tax: float (nullable = true)\n",
      " |-- tip_amount: float (nullable = true)\n",
      " |-- tolls_amount: float (nullable = true)\n",
      " |-- total_amount: float (nullable = true)\n",
      "\n"
     ]
    }
   ],
   "source": [
    "merge_data.printSchema()"
   ]
  },
  {
   "cell_type": "markdown",
   "metadata": {},
   "source": [
    "In the next cell, print the first 10 records of your merged dataset."
   ]
  },
  {
   "cell_type": "code",
   "execution_count": 49,
   "metadata": {},
   "outputs": [
    {
     "name": "stdout",
     "output_type": "stream",
     "text": [
      "+--------------------+--------------------+---------+---------+------------------+-------------------+-------------------+---------------+-----------------+-------------+----------------+---------------+-----------------+----------------+------------+-----------+---------+-------+----------+------------+------------+\n",
      "|           medallion|        hack_license|vendor_id|rate_code|store_and_fwd_flag|    pickup_datetime|   dropoff_datetime|passenger_count|trip_time_in_secs|trip_distance|pickup_longitude|pickup_latitude|dropoff_longitude|dropoff_latitude|payment_type|fare_amount|surcharge|mta_tax|tip_amount|tolls_amount|total_amount|\n",
      "+--------------------+--------------------+---------+---------+------------------+-------------------+-------------------+---------------+-----------------+-------------+----------------+---------------+-----------------+----------------+------------+-----------+---------+-------+----------+------------+------------+\n",
      "|00005007A9F30E289...|02015F5B7D1884620...|      CMT|        1|                 N|2013-05-20 02:15:05|2013-05-20 02:28:51|              2|            827.0|          5.3|        -74.0084|      40.740517|       -73.965195|       40.801292|         CRD|       17.5|      0.5|    0.5|       3.7|         0.0|        22.2|\n",
      "|00005007A9F30E289...|0649DA10C83DE7C6A...|      CMT|        1|                 N|2013-05-14 20:28:38|2013-05-14 20:37:35|              1|            536.0|          1.7|        -73.9793|       40.73579|        -74.00354|       40.740307|         CRD|        8.5|      0.5|    0.5|       1.9|         0.0|        11.4|\n",
      "|00005007A9F30E289...|0FD461760B482C0B2...|      CMT|        1|                 N|2013-11-18 01:41:18|2013-11-18 01:53:22|              1|            723.0|          3.2|      -73.987175|      40.722256|        -73.94967|        40.71564|         CSH|       12.0|      0.5|    0.5|       0.0|         0.0|        13.0|\n",
      "|00005007A9F30E289...|132A7AC13C8471488...|      CMT|        1|                 N|2013-07-30 19:17:33|2013-07-30 19:25:54|              1|            501.0|          1.1|      -73.980736|      40.753197|       -73.971275|       40.764122|         CRD|        7.0|      1.0|    0.5|       1.5|         0.0|        10.0|\n",
      "|00005007A9F30E289...|18F924B3A1BC019F9...|      CMT|        1|                 Y|2013-07-10 01:09:09|2013-07-10 01:13:50|              2|            281.0|          0.8|        -74.0061|       40.73466|        -74.00618|        40.74375|         CRD|        5.0|      0.5|    0.5|       1.0|         0.0|         7.0|\n",
      "|00005007A9F30E289...|1C533BFDA3D6D892F...|      CMT|        1|                 N|2013-05-07 15:23:15|2013-05-07 15:37:46|              1|            870.0|          1.5|      -73.986496|       40.73341|       -73.984604|       40.750008|         CRD|       10.5|      0.0|    0.5|      2.75|         0.0|       13.75|\n",
      "|00005007A9F30E289...|24C122A944FB8EE21...|      CMT|        1|                 N|2013-10-05 11:40:40|2013-10-05 11:57:20|              3|           1000.0|          3.7|       -73.96649|      40.789413|        -74.00306|       40.745758|         CRD|       15.0|      0.0|    0.5|      3.87|         0.0|       19.37|\n",
      "|00005007A9F30E289...|24C122A944FB8EE21...|      CMT|        1|                 Y|2013-10-11 11:18:25|2013-10-11 11:23:11|              1|            285.0|          0.9|         -73.997|       40.72245|       -73.986115|        40.72926|         CRD|        5.5|      0.0|    0.5|       1.0|         0.0|         7.0|\n",
      "|00005007A9F30E289...|24C122A944FB8EE21...|      CMT|        1|                 N|2013-10-14 14:41:18|2013-10-14 15:02:17|              1|           1259.0|          1.5|      -73.960266|       40.78176|        -73.96746|       40.763233|         CSH|       13.0|      0.0|    0.5|       0.0|         0.0|        13.5|\n",
      "|00005007A9F30E289...|24C122A944FB8EE21...|      CMT|        1|                 N|2013-10-18 12:06:37|2013-10-18 12:13:09|              2|            392.0|          1.1|       -73.96292|      40.772476|       -73.954216|       40.786285|         CRD|        6.5|      0.0|    0.5|       1.0|         0.0|         8.0|\n",
      "+--------------------+--------------------+---------+---------+------------------+-------------------+-------------------+---------------+-----------------+-------------+----------------+---------------+-----------------+----------------+------------+-----------+---------+-------+----------+------------+------------+\n",
      "only showing top 10 rows\n",
      "\n"
     ]
    }
   ],
   "source": [
    "merge_data.show(10)"
   ]
  },
  {
   "cell_type": "markdown",
   "metadata": {},
   "source": [
    "In the next cell, print the row count of your merged dataset."
   ]
  },
  {
   "cell_type": "code",
   "execution_count": 50,
   "metadata": {},
   "outputs": [
    {
     "data": {
      "text/plain": [
       "173185091"
      ]
     },
     "execution_count": 50,
     "metadata": {},
     "output_type": "execute_result"
    }
   ],
   "source": [
    "# Count the data set\n",
    "merge_data.count()"
   ]
  },
  {
   "cell_type": "code",
   "execution_count": 51,
   "metadata": {},
   "outputs": [],
   "source": [
    "spark.stop()"
   ]
  }
 ],
 "metadata": {
  "anaconda-cloud": {},
  "celltoolbar": "Raw Cell Format",
  "kernelspec": {
   "display_name": "Python 3",
   "language": "python",
   "name": "python3"
  },
  "language_info": {
   "codemirror_mode": {
    "name": "ipython",
    "version": 3
   },
   "file_extension": ".py",
   "mimetype": "text/x-python",
   "name": "python",
   "nbconvert_exporter": "python",
   "pygments_lexer": "ipython3",
   "version": "3.6.8"
  }
 },
 "nbformat": 4,
 "nbformat_minor": 1
}
