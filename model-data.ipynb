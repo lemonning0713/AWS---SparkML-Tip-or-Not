{
 "cells": [
  {
   "cell_type": "markdown",
   "metadata": {},
   "source": [
    "# Build Predictive Model(s)\n",
    "\n",
    "In this workbook, you will read the merged dataset you created previously and you will create pipelines to build a binary classification model to predict wether a trip has a tip or not.\n",
    "\n",
    "Instructions:\n",
    "\n",
    "1. Read in your merged dataset\n",
    "2. Use transformes and encoders to perform feature engineering\n",
    "3. Split into training and testing\n",
    "4. Build `LogisticRegression` model(s) and train them using pipelines\n",
    "5. Evaluate the performance of the model(s) using `BinaryClassificationMetrics`\n",
    "\n",
    "You are welcome to add as many cells as you need below up until the next section. **You must include comments in your code.**"
   ]
  },
  {
   "cell_type": "code",
   "execution_count": 2,
   "metadata": {},
   "outputs": [],
   "source": [
    "# Findspark import spark session\n",
    "import findspark\n",
    "findspark.init()\n",
    "from pyspark.sql import SparkSession\n",
    "spark = SparkSession.builder.appName(\"model-data\").getOrCreate()"
   ]
  },
  {
   "cell_type": "code",
   "execution_count": 3,
   "metadata": {},
   "outputs": [
    {
     "data": {
      "text/html": [
       "\n",
       "            <div>\n",
       "                <p><b>SparkSession - in-memory</b></p>\n",
       "                \n",
       "        <div>\n",
       "            <p><b>SparkContext</b></p>\n",
       "\n",
       "            <p><a href=\"http://ip-172-31-28-16.ec2.internal:4040\">Spark UI</a></p>\n",
       "\n",
       "            <dl>\n",
       "              <dt>Version</dt>\n",
       "                <dd><code>v2.4.0</code></dd>\n",
       "              <dt>Master</dt>\n",
       "                <dd><code>yarn</code></dd>\n",
       "              <dt>AppName</dt>\n",
       "                <dd><code>model-data</code></dd>\n",
       "            </dl>\n",
       "        </div>\n",
       "        \n",
       "            </div>\n",
       "        "
      ],
      "text/plain": [
       "<pyspark.sql.session.SparkSession at 0x7faa975d8dd8>"
      ]
     },
     "execution_count": 3,
     "metadata": {},
     "output_type": "execute_result"
    }
   ],
   "source": [
    "# Check spark session\n",
    "spark"
   ]
  },
  {
   "cell_type": "code",
   "execution_count": 4,
   "metadata": {
    "scrolled": false
   },
   "outputs": [
    {
     "name": "stdout",
     "output_type": "stream",
     "text": [
      "root\n",
      " |-- medallion: string (nullable = true)\n",
      " |-- hack_license: string (nullable = true)\n",
      " |-- vendor_id: string (nullable = true)\n",
      " |-- rate_code: integer (nullable = true)\n",
      " |-- store_and_fwd_flag: string (nullable = true)\n",
      " |-- pickup_datetime: timestamp (nullable = true)\n",
      " |-- dropoff_datetime: timestamp (nullable = true)\n",
      " |-- passenger_count: integer (nullable = true)\n",
      " |-- trip_time_in_secs: float (nullable = true)\n",
      " |-- trip_distance: float (nullable = true)\n",
      " |-- pickup_longitude: float (nullable = true)\n",
      " |-- pickup_latitude: float (nullable = true)\n",
      " |-- dropoff_longitude: float (nullable = true)\n",
      " |-- dropoff_latitude: float (nullable = true)\n",
      " |-- payment_type: string (nullable = true)\n",
      " |-- fare_amount: float (nullable = true)\n",
      " |-- surcharge: float (nullable = true)\n",
      " |-- mta_tax: float (nullable = true)\n",
      " |-- tip_amount: float (nullable = true)\n",
      " |-- tolls_amount: float (nullable = true)\n",
      " |-- total_amount: float (nullable = true)\n",
      "\n",
      "+--------------------+--------------------+---------+---------+------------------+-------------------+-------------------+---------------+-----------------+-------------+----------------+---------------+-----------------+----------------+------------+-----------+---------+-------+----------+------------+------------+\n",
      "|           medallion|        hack_license|vendor_id|rate_code|store_and_fwd_flag|    pickup_datetime|   dropoff_datetime|passenger_count|trip_time_in_secs|trip_distance|pickup_longitude|pickup_latitude|dropoff_longitude|dropoff_latitude|payment_type|fare_amount|surcharge|mta_tax|tip_amount|tolls_amount|total_amount|\n",
      "+--------------------+--------------------+---------+---------+------------------+-------------------+-------------------+---------------+-----------------+-------------+----------------+---------------+-----------------+----------------+------------+-----------+---------+-------+----------+------------+------------+\n",
      "|00005007A9F30E289...|16780B3E72BAA7A5C...|      CMT|        1|                 N|2013-03-27 19:49:35|2013-03-27 19:53:00|              1|            204.0|          0.5|        -73.9915|      40.766277|        -73.98544|       40.768623|         CRD|        4.5|      1.0|    0.5|       1.2|         0.0|         7.2|\n",
      "|00005007A9F30E289...|16780B3E72BAA7A5C...|      CMT|        1|                 N|2013-03-27 21:26:02|2013-03-27 21:29:54|              1|            232.0|          0.7|       -73.99168|      40.739147|        -74.00111|        40.74468|         CSH|        5.0|      0.5|    0.5|       0.0|         0.0|         6.0|\n",
      "|00005007A9F30E289...|1E3F1640D7AE96FAD...|      CMT|        1|                 N|2013-04-24 21:57:34|2013-04-24 22:16:29|              1|           1135.0|          5.0|       -74.00161|      40.730717|        -73.95048|       40.780666|         CRD|       18.0|      0.5|    0.5|       3.8|         0.0|        22.8|\n",
      "|00005007A9F30E289...|24C122A944FB8EE21...|      CMT|        1|                 N|2013-09-30 08:18:49|2013-09-30 08:25:29|              2|            399.0|          0.7|        -73.9709|       40.79809|         -73.9694|       40.790306|         CRD|        6.0|      0.0|    0.5|       1.3|         0.0|         7.8|\n",
      "|00005007A9F30E289...|24C122A944FB8EE21...|      CMT|        1|                 N|2013-10-07 14:24:19|2013-10-07 14:41:14|              1|           1014.0|          0.9|       -73.97435|      40.762386|       -73.986595|       40.756054|         CSH|       11.0|      0.0|    0.5|       0.0|         0.0|        11.5|\n",
      "+--------------------+--------------------+---------+---------+------------------+-------------------+-------------------+---------------+-----------------+-------------+----------------+---------------+-----------------+----------------+------------+-----------+---------+-------+----------+------------+------------+\n",
      "only showing top 5 rows\n",
      "\n",
      "Number of records: 173185091\n"
     ]
    }
   ],
   "source": [
    "# Load dataset\n",
    "data = spark.read.parquet(\"s3://anly502s3/a5_mergeData/\")\n",
    "\n",
    "# Print and show the schema of the dataset\n",
    "data.printSchema()\n",
    "data.show(5)\n",
    "\n",
    "print(\"Number of records: \" + str(data.count()))"
   ]
  },
  {
   "cell_type": "code",
   "execution_count": 84,
   "metadata": {},
   "outputs": [],
   "source": [
    "# Import all the packages I need\n",
    "from pyspark.ml.feature import OneHotEncoder, StringIndexer, IndexToString, VectorAssembler, Binarizer\n",
    "from pyspark.ml.classification import LogisticRegression\n",
    "from pyspark.ml.evaluation import BinaryClassificationEvaluator\n",
    "from pyspark.mllib.evaluation import BinaryClassificationMetrics\n",
    "from pyspark.ml import Pipeline, Model"
   ]
  },
  {
   "cell_type": "code",
   "execution_count": 69,
   "metadata": {},
   "outputs": [
    {
     "name": "stdout",
     "output_type": "stream",
     "text": [
      "+--------------------+--------------------+---------+---------+------------------+-------------------+-------------------+---------------+-----------------+-------------+----------------+---------------+-----------------+----------------+------------+-----------+---------+-------+------------------+------------+------------+-----+\n",
      "|           medallion|        hack_license|vendor_id|rate_code|store_and_fwd_flag|    pickup_datetime|   dropoff_datetime|passenger_count|trip_time_in_secs|trip_distance|pickup_longitude|pickup_latitude|dropoff_longitude|dropoff_latitude|payment_type|fare_amount|surcharge|mta_tax|        tip_amount|tolls_amount|total_amount|label|\n",
      "+--------------------+--------------------+---------+---------+------------------+-------------------+-------------------+---------------+-----------------+-------------+----------------+---------------+-----------------+----------------+------------+-----------+---------+-------+------------------+------------+------------+-----+\n",
      "|00005007A9F30E289...|16780B3E72BAA7A5C...|      CMT|        1|                 N|2013-03-27 19:49:35|2013-03-27 19:53:00|              1|            204.0|          0.5|        -73.9915|      40.766277|        -73.98544|       40.768623|         CRD|        4.5|      1.0|    0.5|1.2000000476837158|         0.0|         7.2|  1.0|\n",
      "|00005007A9F30E289...|16780B3E72BAA7A5C...|      CMT|        1|                 N|2013-03-27 21:26:02|2013-03-27 21:29:54|              1|            232.0|          0.7|       -73.99168|      40.739147|        -74.00111|        40.74468|         CSH|        5.0|      0.5|    0.5|               0.0|         0.0|         6.0|  0.0|\n",
      "|00005007A9F30E289...|1E3F1640D7AE96FAD...|      CMT|        1|                 N|2013-04-24 21:57:34|2013-04-24 22:16:29|              1|           1135.0|          5.0|       -74.00161|      40.730717|        -73.95048|       40.780666|         CRD|       18.0|      0.5|    0.5| 3.799999952316284|         0.0|        22.8|  1.0|\n",
      "+--------------------+--------------------+---------+---------+------------------+-------------------+-------------------+---------------+-----------------+-------------+----------------+---------------+-----------------+----------------+------------+-----------+---------+-------+------------------+------------+------------+-----+\n",
      "only showing top 3 rows\n",
      "\n"
     ]
    }
   ],
   "source": [
    "# Prepare the feature column by first change the tip_amount coloumn from float type to double type\n",
    "data_new = data.withColumn(\"tip_amount\", data[\"tip_amount\"].cast(\"double\"))\n",
    "\n",
    "# Set the threshold at 0, tip = 0 will return 0, and tip >0 will return 1\n",
    "binarizer = Binarizer(threshold = 0, inputCol = \"tip_amount\", outputCol = \"label\")\n",
    "binarizer.transform(data_new).show(3)"
   ]
  },
  {
   "cell_type": "code",
   "execution_count": 106,
   "metadata": {},
   "outputs": [
    {
     "name": "stdout",
     "output_type": "stream",
     "text": [
      "Number of training records: 138551442\n",
      "Number of testing records : 34633649\n"
     ]
    }
   ],
   "source": [
    "# Prepare training and testing data\n",
    "splitted_data = data_new.randomSplit([0.8, 0.2], 810)\n",
    "train_data = splitted_data[0]\n",
    "test_data = splitted_data[1]\n",
    "\n",
    "# Print the rows for each dataset\n",
    "print(\"Number of training records: \" + str(train_data.count()))\n",
    "print(\"Number of testing records : \" + str(test_data.count()))\n"
   ]
  },
  {
   "cell_type": "code",
   "execution_count": 107,
   "metadata": {},
   "outputs": [],
   "source": [
    "# Convert needed predictor of string type to numeric\n",
    "strInd_medall = StringIndexer(inputCol=\"medallion\", outputCol=\"medall_IX\", handleInvalid = \"skip\")#.fit(data_new)\n",
    "strInd_hack = StringIndexer(inputCol=\"hack_license\", outputCol=\"hack_IX\", handleInvalid = \"skip\")\n",
    "strInd_vendor = StringIndexer(inputCol=\"vendor_id\", outputCol=\"vendor_IX\", handleInvalid = \"skip\")\n",
    "strInd_flag = StringIndexer(inputCol=\"store_and_fwd_flag\", outputCol=\"flag_IX\", handleInvalid = \"skip\")\n",
    "strInd_pmt = StringIndexer(inputCol=\"payment_type\", outputCol=\"pmt_IX\")"
   ]
  },
  {
   "cell_type": "code",
   "execution_count": 108,
   "metadata": {},
   "outputs": [
    {
     "data": {
      "text/plain": [
       "VectorAssembler_2fe17f6f6bcf"
      ]
     },
     "execution_count": 108,
     "metadata": {},
     "output_type": "execute_result"
    }
   ],
   "source": [
    "vectorAssembler_features = VectorAssembler(\n",
    "    inputCols=[\"medall_IX\", \n",
    "               \"hack_IX\", \n",
    "               \"vendor_IX\", \n",
    "               \"rate_code\",\n",
    "               \"flag_IX\",\n",
    "               \"passenger_count\",\n",
    "               \"trip_time_in_secs\",\n",
    "               \"trip_distance\",\n",
    "               \"pickup_longitude\",\n",
    "               \"pickup_latitude\",\n",
    "               \"dropoff_longitude\",\n",
    "               \"dropoff_latitude\",\n",
    "               \"pmt_IX\",\n",
    "               \"fare_amount\",\n",
    "               \"surcharge\",\n",
    "               \"mta_tax\",\n",
    "               \"tolls_amount\"], \n",
    "    outputCol=\"features\")\n",
    "vectorAssembler_features\n"
   ]
  },
  {
   "cell_type": "code",
   "execution_count": 109,
   "metadata": {},
   "outputs": [],
   "source": [
    "# Define estimators\n",
    "lr = LogisticRegression(labelCol=\"label\", featuresCol=\"features\")\n"
   ]
  },
  {
   "cell_type": "code",
   "execution_count": 110,
   "metadata": {},
   "outputs": [],
   "source": [
    "# Build the pipeline\n",
    "pipeline_lr = Pipeline(stages=[strInd_medall, \n",
    "                                strInd_hack, \n",
    "                                strInd_vendor, \n",
    "                                strInd_flag, \n",
    "                                strInd_pmt,\n",
    "                                binarizer,\n",
    "                                vectorAssembler_features,\n",
    "                                lr])"
   ]
  },
  {
   "cell_type": "code",
   "execution_count": 111,
   "metadata": {},
   "outputs": [],
   "source": [
    "# Train data with logistic regression\n",
    "model_lr = pipeline_glm.fit(train_data)\n"
   ]
  },
  {
   "cell_type": "code",
   "execution_count": 112,
   "metadata": {},
   "outputs": [
    {
     "name": "stdout",
     "output_type": "stream",
     "text": [
      "Accuracy = 0.989056\n",
      "Test Error = 0.010944\n"
     ]
    }
   ],
   "source": [
    "# Evaluate the model and check model accuracy USING BinaryClassificationEvaluator\n",
    "predictions = model_lr.transform(test_data)\n",
    "evaluatorLR = BinaryClassificationEvaluator()\n",
    "accuracy = evaluatorLR.evaluate(predictions)\n",
    "\n",
    "print(\"Accuracy = %g\" % accuracy)\n",
    "print(\"Test Error = %g\" % (1.0 - accuracy))"
   ]
  },
  {
   "cell_type": "code",
   "execution_count": null,
   "metadata": {},
   "outputs": [],
   "source": []
  },
  {
   "cell_type": "markdown",
   "metadata": {},
   "source": [
    "## In the following cells, please provide the requested code and output. Do not change the order and/or structure of the cells."
   ]
  },
  {
   "cell_type": "markdown",
   "metadata": {},
   "source": [
    "In the following cell, print the Area Under the Curve (AUC) for your binary classifier."
   ]
  },
  {
   "cell_type": "code",
   "execution_count": 104,
   "metadata": {},
   "outputs": [
    {
     "name": "stdout",
     "output_type": "stream",
     "text": [
      "Accuracy = 0.989059\n"
     ]
    }
   ],
   "source": [
    "print(\"Accuracy = %g\" % accuracy)"
   ]
  },
  {
   "cell_type": "markdown",
   "metadata": {},
   "source": [
    "In the following cell, provide the code that saves your model your S3 bucket."
   ]
  },
  {
   "cell_type": "code",
   "execution_count": 105,
   "metadata": {},
   "outputs": [],
   "source": [
    "model_lr.save(\"s3://anly502s3/a5_model/\")"
   ]
  },
  {
   "cell_type": "code",
   "execution_count": 113,
   "metadata": {},
   "outputs": [],
   "source": [
    "spark.stop()"
   ]
  }
 ],
 "metadata": {
  "anaconda-cloud": {},
  "celltoolbar": "Raw Cell Format",
  "kernelspec": {
   "display_name": "Python 3",
   "language": "python",
   "name": "python3"
  },
  "language_info": {
   "codemirror_mode": {
    "name": "ipython",
    "version": 3
   },
   "file_extension": ".py",
   "mimetype": "text/x-python",
   "name": "python",
   "nbconvert_exporter": "python",
   "pygments_lexer": "ipython3",
   "version": "3.6.8"
  }
 },
 "nbformat": 4,
 "nbformat_minor": 1
}
